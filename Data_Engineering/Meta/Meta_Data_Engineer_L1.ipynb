{
  "nbformat": 4,
  "nbformat_minor": 0,
  "metadata": {
    "colab": {
      "provenance": []
    },
    "kernelspec": {
      "name": "python3",
      "display_name": "Python 3"
    },
    "language_info": {
      "name": "python"
    }
  },
  "cells": [
    {
      "cell_type": "markdown",
      "source": [
        "# Meta Data Engineer Prepration Plan\n",
        "---"
      ],
      "metadata": {
        "id": "ob24hP_yoIBd"
      }
    },
    {
      "cell_type": "markdown",
      "source": [
        "---\n",
        "\n",
        "---"
      ],
      "metadata": {
        "id": "EPF_XZz2IX2_"
      }
    },
    {
      "cell_type": "markdown",
      "source": [
        "---"
      ],
      "metadata": {
        "id": "77g7UXnXIaHL"
      }
    },
    {
      "cell_type": "markdown",
      "source": [
        "## Return Mismatched Words\n",
        "\n",
        "Given an input of two strings consisting of English letters (a-z; A-Z) and spaces, complete a function that returns a list containing all the mismatched words (case-sensitive) between them. You can assume that a word is a group of characters delimited by spaces. A mismatched word is a word that is only in one string but not the other. Add mismatched words from the first string before you add mismatched words from the second string in the output array.\n",
        "\n",
        "### Signature\n",
        "```java\n",
        "static String[] returnMismatched(String str1, String str2)\n",
        "```\n",
        "\n",
        "```\n",
        "Input\n",
        "str1: a string\n",
        "str2: a string\n",
        "Note: You can only expect valid English letters (a-z; A-Z) and spaces.\n",
        "Output\n",
        "An array containing all words that do not match between str1 and str2.\n",
        "```\n",
        "\n",
        "**Examples:**\n",
        "\n",
        "```\n",
        "str1: \"Firstly this is the first string\"\n",
        "str2: \"Next is the second string\"\n",
        "output: [\"Firstly\", \"this\", \"first\", \"Next\", \"second\"]\n",
        "```\n",
        "\n",
        "\n",
        "```\n",
        "str1: \"\"\n",
        "str2: \"\"\n",
        "output: []\n",
        "```\n",
        "\n",
        "```\n",
        "str1: \"\"\n",
        "str2: \"This is the second string\"\n",
        "output: [\"This\", \"is\", \"the\", \"second\", \"string\"]\n",
        "```\n",
        "\n",
        "```\n",
        "str1: \"This is the first string\"\n",
        "str2: \"This is the second string\"\n",
        "output: [\"first\", \"second\"]\n",
        "```\n",
        "\n",
        "```\n",
        "str1: \"This is the first string extra\"\n",
        "str2: \"This is the second string\"\n",
        "output: [\"first\", \"extra\", \"second\"]\n",
        "```\n",
        "\n",
        "\n",
        "```\n",
        "str1: \"This is the first text\"\n",
        "str2: \"This is the second string\"\n",
        "output: [\"first\", \"text\", \"second\", \"string\"]\n",
        "```\n"
      ],
      "metadata": {
        "id": "gVAZ4aSsoKwf"
      }
    },
    {
      "cell_type": "code",
      "source": [
        "import math\n",
        "# Add any extra import statements you may need here\n",
        "# Add any helper functions you may need here\n",
        "import re\n",
        "\n",
        "\n",
        "def tokenizer(text):\n",
        "  return re.findall(r'\\b\\w+\\b', text)\n",
        "\n",
        "def return_mismatched_words(str1, str2):\n",
        "  # Write your code here\n",
        "  token1_set = set(tokenizer(str1))\n",
        "  token2_set = set(tokenizer(str2))\n",
        "  all_token_set = token1_set.union(token2_set)\n",
        "  common_token_set = token1_set.intersection(token2_set)\n",
        "  mismatched_tokens = all_token_set.difference(common_token_set)\n",
        "  all_tokens = list(tokenizer(str1)) + list(tokenizer(str2))\n",
        "  mis_tokens = [t for t in all_tokens if t in mismatched_tokens]\n",
        "  return mis_tokens\n",
        ""
      ],
      "metadata": {
        "id": "2r6seTQYoLH9"
      },
      "execution_count": 17,
      "outputs": []
    },
    {
      "cell_type": "code",
      "source": [
        "\n",
        "# These are the tests we use to determine if the solution is correct.\n",
        "# You can add your own at the bottom.\n",
        "\n",
        "def printStringList(array):\n",
        "  size = len(array)\n",
        "  print('[', end='')\n",
        "  for i in range(size):\n",
        "    if i != 0:\n",
        "      print(', ', end='')\n",
        "    print(array[i], end='')\n",
        "  print(']', end='')\n",
        "\n",
        "test_case_number = 1\n",
        "\n",
        "def check(expected, output):\n",
        "  global test_case_number\n",
        "  expected_size = len(expected)\n",
        "  output_size = len(output)\n",
        "  result = True\n",
        "  if expected_size != output_size:\n",
        "    result = False\n",
        "  for i in range(min(expected_size, output_size)):\n",
        "    result &= (output[i] == expected[i])\n",
        "  rightTick = '\\u2713'\n",
        "  wrongTick = '\\u2717'\n",
        "  if result:\n",
        "    print(rightTick, 'Test #', test_case_number, sep='')\n",
        "  else:\n",
        "    print(wrongTick, 'Test #', test_case_number, ': Expected ', sep='', end='')\n",
        "    printStringList(expected)\n",
        "    print(' Your output: ', end='')\n",
        "    printStringList(output)\n",
        "    print()\n",
        "  test_case_number += 1\n",
        "\n",
        "if __name__ == \"__main__\":\n",
        "  # Testcase 1\n",
        "  str1 = \"Firstly this is the first string\"\n",
        "  str2 = \"Next is the second string\"\n",
        "  output_1 = return_mismatched_words(str1, str2)\n",
        "  expected_1 = [\"Firstly\", \"this\", \"first\", \"Next\", \"second\"]\n",
        "  check(expected_1, output_1)\n",
        "\n",
        "  # Testcase 2\n",
        "  str1 = \"This is the first string\"\n",
        "  str2 = \"This is the second string\"\n",
        "  output_3 = return_mismatched_words(str1, str2)\n",
        "  expected_3 = [\"first\", \"second\"]\n",
        "  check(expected_3, output_3)\n",
        "\n",
        "  # Testcase 3\n",
        "  str1 = \"This is the first string extra\"\n",
        "  str2 = \"This is the second string\"\n",
        "  output_4 = return_mismatched_words(str1, str2)\n",
        "  expected_4 = [\"first\", \"extra\", \"second\"]\n",
        "  check(expected_4, output_4)\n",
        "\n",
        "  # Testcase 4\n",
        "  str1 = \"This is the first text\"\n",
        "  str2 = \"This is the second string\"\n",
        "  output_5 = return_mismatched_words(str1, str2)\n",
        "  expected_5 = [\"first\", \"text\", \"second\", \"string\"]\n",
        "  check(expected_5, output_5)\n",
        ""
      ],
      "metadata": {
        "colab": {
          "base_uri": "https://localhost:8080/"
        },
        "id": "aU8aDNFkoLK7",
        "outputId": "49213041-5588-4bda-929d-331848f180d6"
      },
      "execution_count": 18,
      "outputs": [
        {
          "output_type": "stream",
          "name": "stdout",
          "text": [
            "✓Test #1\n",
            "✓Test #2\n",
            "✓Test #3\n",
            "✓Test #4\n"
          ]
        }
      ]
    },
    {
      "cell_type": "markdown",
      "source": [
        "---"
      ],
      "metadata": {
        "id": "YJDxip8UttDT"
      }
    },
    {
      "cell_type": "markdown",
      "source": [
        "## Return Smallest Key\n",
        "\n",
        "You are given an input dictionary with keys as strings and values as integers. Complete a function that returns the key with the nth smallest value. If the solution involves two keys that have the same value, return the key that is lexicographically earliest. If n is larger than the number of distinct keys or equal to 0, then return null.\n",
        "\n",
        "### Signature\n",
        "```java\n",
        "String returnSmallestKey(HashMap<String, Integer> inputDict, int n)\n",
        "```\n",
        "\n",
        "#### Input\n",
        "- inputDict: Map with a string as the key and integer as the value\n",
        "- n: Integer representing the nth smallest value to be returned\n",
        "\n",
        "#### Output\n",
        "- string representing the key\n",
        "\n",
        "#### Examples:\n",
        "```\n",
        "inputDict: {\"laptop\": 999,\"smartphone\": 999,\"smart tv\": 500,\"smart watch\": 300,\"smart home\": 9999999}\n",
        "n: 2\n",
        "output: \"smart tv\"\n",
        "```\n",
        "\n",
        "```\n",
        "inputDict: {\"a\": 10,\"b\": 20}\n",
        "n: 0\n",
        "output: null\n",
        "```\n",
        "\n",
        "```\n",
        "inputDict: {\"a\": 1,\"b\": 2,\"c\": 3,\"d\": 4,\"e\": 5}\n",
        "n: 6\n",
        "output: null\n",
        "```\n",
        "\n",
        "```\n",
        "inputDict: {\"a\": 10,\"b\": 20,\"c\": 3,\"d\": 2,\"e\": 9}\n",
        "n: 1\n",
        "output: \"d\"  \n",
        "```\n"
      ],
      "metadata": {
        "id": "Qja0WPGboLVx"
      }
    },
    {
      "cell_type": "code",
      "source": [
        "import math\n",
        "# Add any extra import statements you may need here\n",
        "# Add any helper functions you may need here\n",
        "\n",
        "def return_smallest_key(inputDict, n):\n",
        "  # Write your code here\n",
        "  inv_dict = {}\n",
        "  v_l = []\n",
        "  for k, v in inputDict.items():\n",
        "    inv_dict[v] = inv_dict.get(v, []) + [k]\n",
        "    v_l.append(v)\n",
        "\n",
        "  v_l.sort()\n",
        "  if n < 1 or n > len(v_l):\n",
        "    return None\n",
        "  else:\n",
        "    return inv_dict.get(v_l[n-1],[None])[0]\n"
      ],
      "metadata": {
        "id": "fRh8n8EGoLuq"
      },
      "execution_count": 42,
      "outputs": []
    },
    {
      "cell_type": "code",
      "source": [
        "# @title Testing\n",
        "\n",
        "# These are the tests we use to determine if the solution is correct.\n",
        "# You can add your own at the bottom.\n",
        "\n",
        "def printValue(n):\n",
        "  print('[', n, ']', sep='', end='')\n",
        "\n",
        "test_case_number = 1\n",
        "\n",
        "def check(expected, output):\n",
        "  global test_case_number\n",
        "  result = False\n",
        "  if expected == output:\n",
        "    result = True\n",
        "  rightTick = '\\u2713'\n",
        "  wrongTick = '\\u2717'\n",
        "  if result:\n",
        "    print(rightTick, 'Test #', test_case_number, sep='')\n",
        "  else:\n",
        "    print(wrongTick, 'Test #', test_case_number, ': Expected ', sep='', end='')\n",
        "    printValue(expected)\n",
        "    print(' Your output: ', end='')\n",
        "    printValue(output)\n",
        "    print()\n",
        "  test_case_number += 1\n",
        "\n",
        "if __name__ == \"__main__\":\n",
        "\n",
        "  # Testcase 1\n",
        "  inputDict1 = {\"laptop\": 999,\"smartphone\": 999,\"smart tv\": 500,\"smart watch\": 300,\"smart home\": 9999999}\n",
        "  n1 = 2\n",
        "  expected_1 = \"smart tv\"\n",
        "  output_1 = return_smallest_key(inputDict1, n1)\n",
        "  check(expected_1, output_1)\n",
        "\n",
        "  # Testcase 2\n",
        "  inputDict2 = {\"a\": 10,\"b\": 20}\n",
        "  n2 = 0\n",
        "  expected_2 = None\n",
        "  output_2 = return_smallest_key(inputDict2, n2)\n",
        "  check(expected_2, output_2)\n",
        "\n",
        "  # Testcase 3\n",
        "  inputDict3 = {\"a\": 1,\"b\": 2,\"c\": 3,\"d\": 4,\"e\": 5}\n",
        "  n3 = 6\n",
        "  expected_3 = None\n",
        "  output_3 = return_smallest_key(inputDict3, n3)\n",
        "  check(expected_3, output_3)\n",
        "\n",
        "  # Testcase 4\n",
        "  inputDict4 =  {\"a\": 10,\"b\": 20,\"c\": 3,\"d\": 2,\"e\": 9}\n",
        "  n4 = 1\n",
        "  expected_4 = \"d\"\n",
        "  output_4 = return_smallest_key(inputDict4, n4)\n",
        "  check(expected_4, output_4)\n",
        "\n",
        "  # Add your own test cases here"
      ],
      "metadata": {
        "colab": {
          "base_uri": "https://localhost:8080/"
        },
        "id": "Njj0b4XXoLyK",
        "outputId": "fefa518e-84c8-49b5-c383-8ad3a7766888"
      },
      "execution_count": 43,
      "outputs": [
        {
          "output_type": "stream",
          "name": "stdout",
          "text": [
            "✓Test #1\n",
            "✓Test #2\n",
            "✓Test #3\n",
            "✓Test #4\n"
          ]
        }
      ]
    },
    {
      "cell_type": "markdown",
      "source": [
        "---"
      ],
      "metadata": {
        "id": "od_KArwRoL-q"
      }
    },
    {
      "cell_type": "markdown",
      "source": [
        "## Return Missing Balanced Numbers\n",
        "\n",
        "A balanced array would be an array in which each element appears the same number of times.\n",
        "\n",
        "Given an array with n elements, return a dictionary with the key as the element and the value as the count of elements needed to balance the given array.\n",
        "\n",
        "### Signature\n",
        "```java\n",
        "HashMap<Object, Integer> returnMissingBalancedNumbers(Object[] elements)\n",
        "```\n",
        "\n",
        "**Input**\n",
        "- Array of mixed elements (integers, strings, etc.)\n",
        "Output\n",
        "- Object with a mixed key, and an integer value\n",
        "\n",
        "**Examples**\n",
        "```\n",
        "elements: [\"a\", \"b\", \"abc\", \"c\", \"a\"]\n",
        "output: {\"b\":1, \"abc\":1, \"c\":1}\n",
        "\n",
        "elements: [1,3,4,2,1,4,1]\n",
        "output: {2:2, 3:2, 4:1}\n",
        "\n",
        "elements: [4,5,11,5,6,11]\n",
        "output: {4:1,6:1}\n",
        "```\n"
      ],
      "metadata": {
        "id": "NPrXAwqKICXx"
      }
    },
    {
      "cell_type": "code",
      "source": [
        "import math\n",
        "# Add any extra import statements you may need here\n",
        "# Add any helper functions you may need here\n",
        "\n",
        "\n",
        "def return_missing_balanced_numbers(input):\n",
        "  # Write your code here\n",
        "  rdict = {}\n",
        "  max_v = 0\n",
        "  for val in input:\n",
        "    v = rdict.get(val, 0) + 1\n",
        "    rdict[val] = v\n",
        "    if v > max_v:\n",
        "      max_v = v\n",
        "  f_dict = {}\n",
        "  for k in rdict.keys():\n",
        "    v = max_v - rdict[k]\n",
        "    if v > 0:\n",
        "      f_dict[k] = v\n",
        "  return f_dict"
      ],
      "metadata": {
        "id": "9LI__DYqICqN"
      },
      "execution_count": 49,
      "outputs": []
    },
    {
      "cell_type": "code",
      "source": [
        "# These are the tests we use to determine if the solution is correct.\n",
        "# You can add your own at the bottom.\n",
        "\n",
        "test_case_number = 1\n",
        "\n",
        "def check(expected, output):\n",
        "  global test_case_number\n",
        "  result = False\n",
        "  if expected == output:\n",
        "    result = True\n",
        "  rightTick = '\\u2713'\n",
        "  wrongTick = '\\u2717'\n",
        "  if result:\n",
        "    print(rightTick, 'Test #', test_case_number, sep='')\n",
        "  else:\n",
        "    print(wrongTick, 'Test #', test_case_number, ': Expected ', sep='', end='')\n",
        "    print(expected)\n",
        "    print(' Your output: ', end='')\n",
        "    print(output)\n",
        "    print()\n",
        "  test_case_number += 1\n",
        "\n",
        "if __name__ == \"__main__\":\n",
        "\n",
        "  # Testcase 1\n",
        "  input_1 = ['a','b','abc','c','a']\n",
        "  output_1 = return_missing_balanced_numbers(input_1)\n",
        "  expected_1 = {'b':1,'abc':1,'c':1}\n",
        "  check(expected_1, output_1)\n",
        "\n",
        "  # Testcase 2\n",
        "  input_2 = [1,3,4,2,1,4,1]\n",
        "  output_2 = return_missing_balanced_numbers(input_2)\n",
        "  expected_2 = {2:2,3:2,4:1}\n",
        "  check(expected_2, output_2)\n",
        "\n",
        "  # Testcase 3\n",
        "  input_3 = [4,5,11,5,6,11]\n",
        "  output_3 = return_missing_balanced_numbers(input_3)\n",
        "  expected_3 = {4:1,6:1}\n",
        "  check(expected_3, output_3)\n",
        "\n",
        "  # Add your own test cases here\n",
        ""
      ],
      "metadata": {
        "colab": {
          "base_uri": "https://localhost:8080/"
        },
        "id": "bx2JbSFxICvw",
        "outputId": "ba77baca-d140-4fa8-a28f-b2b2364e24dc"
      },
      "execution_count": 50,
      "outputs": [
        {
          "output_type": "stream",
          "name": "stdout",
          "text": [
            "✓Test #1\n",
            "✓Test #2\n",
            "✓Test #3\n"
          ]
        }
      ]
    },
    {
      "cell_type": "markdown",
      "source": [
        "---"
      ],
      "metadata": {
        "id": "DZEHBzOVIDRj"
      }
    },
    {
      "cell_type": "markdown",
      "source": [
        "## Character Frequency\n",
        "\n",
        "Complete a function that returns the number of times a given character occurs in the given string. Note: Please avoid importing libraries like Counter from collections (if using Python) to get the correct solution. The interviewer would like to gauge your experience with initializing/populating dictionaries.\n",
        "\n",
        "**Signature:**\n",
        "```python\n",
        "returnCharNum(string word, char c)\n",
        "```\n",
        "\n",
        "**Input:**\n",
        "- `word`: a string\n",
        "- `c`: a character\n",
        "- *Note:* Assume that the characters are case sensitive (capital letters are interpreted differently than lower case characters).\n",
        "\n",
        "**Output:**\n",
        "- An int representing the number of occurrences of the input character (`c`) in the word.\n",
        "\n",
        "**Examples:**\n",
        "```\n",
        "word: \"Mississippi\", c: \"s\"\n",
        "output: 4\n",
        "\n",
        "word: \"Rainbow\", c: \"j\"\n",
        "output: 0\n",
        "\n",
        "word: \"Mirror\", c: \"m\"\n",
        "output: 0\n",
        "\n",
        "word: \"\", c: \"c\"\n",
        "output: 0\n",
        "\n",
        "word: \"hello\", c: \"\"\n",
        "output: 0\n",
        "```\n",
        "\n",
        "**Tips:**\n",
        "Think about how to solve this without using an imported library, like `Counter` in `collections` if using Python.\n"
      ],
      "metadata": {
        "id": "eI91GGeMIFXp"
      }
    },
    {
      "cell_type": "code",
      "source": [
        "import math\n",
        "# Add any extra import statements you may need here\n",
        "\n",
        "\n",
        "# Add any helper functions you may need here\n",
        "\n",
        "\n",
        "def character_frequency(s, c):\n",
        "  i = 0\n",
        "  for char in s:\n",
        "    if char == c:\n",
        "      i+=1\n",
        "  return i\n",
        "\n"
      ],
      "metadata": {
        "id": "mXonD7nDoJkv"
      },
      "execution_count": 51,
      "outputs": []
    },
    {
      "cell_type": "code",
      "source": [
        "\n",
        "# These are the tests we use to determine if the solution is correct.\n",
        "# You can add your own at the bottom.\n",
        "\n",
        "def printInteger(n):\n",
        "  print('[', n, ']', sep='', end='')\n",
        "\n",
        "test_case_number = 1\n",
        "\n",
        "def check(expected, output):\n",
        "  global test_case_number\n",
        "  result = False\n",
        "  if expected == output:\n",
        "    result = True\n",
        "  rightTick = '\\u2713'\n",
        "  wrongTick = '\\u2717'\n",
        "  if result:\n",
        "    print(rightTick, 'Test #', test_case_number, sep='')\n",
        "  else:\n",
        "    print(wrongTick, 'Test #', test_case_number, ': Expected ', sep='', end='')\n",
        "    printInteger(expected)\n",
        "    print(' Your output: ', end='')\n",
        "    printInteger(output)\n",
        "    print()\n",
        "  test_case_number += 1\n",
        "\n",
        "if __name__ == \"__main__\":\n",
        "\n",
        "  # Testcase 1\n",
        "  s1 = \"Mississippi\"\n",
        "  c1 = \"s\"\n",
        "  expected_1 = 4\n",
        "  output_1 = character_frequency(s1, c1)\n",
        "  check(expected_1, output_1)\n",
        "\n",
        "  # Testcase 2\n",
        "  s2 = \"Rainbow\"\n",
        "  c2 = \"j\"\n",
        "  expected_2 = 0\n",
        "  output_2 = character_frequency(s2, c2)\n",
        "  check(expected_2, output_2)\n",
        "\n",
        "  # Testcase 3\n",
        "  s3 = \"Mirror\"\n",
        "  c3 = \"m\"\n",
        "  expected_3 = 0\n",
        "  output_3 = character_frequency(s3, c3)\n",
        "  check(expected_3, output_3)\n",
        "\n",
        "  # Testcase 4\n",
        "  s4 = \"\"\n",
        "  c4 = \"c\"\n",
        "  expected_4 = 0\n",
        "  output_4 = character_frequency(s4, c4)\n",
        "  check(expected_4, output_4)\n",
        "\n",
        "  # Testcase 5\n",
        "  s5 = \"hello\"\n",
        "  c5 = \"\"\n",
        "  expected_5 = 0\n",
        "  output_5 = character_frequency(s5, c5)\n",
        "  check(expected_5, output_5)\n",
        "\n",
        "  # Add your own test cases here"
      ],
      "metadata": {
        "colab": {
          "base_uri": "https://localhost:8080/"
        },
        "id": "Oz67ba1AIE1_",
        "outputId": "fe452509-fd17-441e-e895-8aca3c2d27fe"
      },
      "execution_count": 52,
      "outputs": [
        {
          "output_type": "stream",
          "name": "stdout",
          "text": [
            "✓Test #1\n",
            "✓Test #2\n",
            "✓Test #3\n",
            "✓Test #4\n",
            "✓Test #5\n"
          ]
        }
      ]
    },
    {
      "cell_type": "markdown",
      "source": [
        "---"
      ],
      "metadata": {
        "id": "XcCj-05nIK3X"
      }
    },
    {
      "cell_type": "markdown",
      "source": [
        "## Fill in the Blanks\n",
        "\n",
        "Given an array containing null values, fill in the null values with the most recent non-null value in the array.\n",
        "\n",
        "**Signature:**\n",
        "```java\n",
        "integer[] returnFilledArray(integer[] input_lst)\n",
        "```\n",
        "\n",
        "**Input:**\n",
        "Array of integers and/or null values\n",
        "\n",
        "**Output:**\n",
        "Array of integers and/or null values\n",
        "\n",
        "**Examples:**\n",
        "```\n",
        "input:  [1,null,2,3,null,null,5,null]\n",
        "output: [1, 1, 2, 3, 3, 3, 5, 5]\n",
        "\n",
        "input: [null,8,null]\n",
        "output: [null, 8, 8]\n",
        "\n",
        "input: [1,null,2]\n",
        "output: [1,1,2]\n",
        "\n",
        "input: [5,null,null]\n",
        "output: [5,5,5]\n",
        "\n",
        "input: [1,null,2,3,null,null,5,null]\n",
        "output: [1,1,2,3,3,3,5,5]\n",
        "```"
      ],
      "metadata": {
        "id": "5DD8v8BmIMOQ"
      }
    },
    {
      "cell_type": "code",
      "source": [
        "import math\n",
        "# Add any extra import statements you may need here\n",
        "\n",
        "\n",
        "# Add any helper functions you may need here\n",
        "\n",
        "\n",
        "def fill_in_the_blanks(input_lst):\n",
        "  # Write your code here\n",
        "  last_n = None\n",
        "  new_list = []\n",
        "  for i in input_lst:\n",
        "    last_n = i if i is not None else last_n\n",
        "    new_list.append(last_n)\n",
        "  return new_list\n",
        "\n"
      ],
      "metadata": {
        "id": "mXHtQBEMIMmp"
      },
      "execution_count": 57,
      "outputs": []
    },
    {
      "cell_type": "code",
      "source": [
        "# These are the tests we use to determine if the solution is correct.\n",
        "# You can add your own at the bottom.\n",
        "\n",
        "test_case_number = 1\n",
        "\n",
        "def check(expected, output):\n",
        "  global test_case_number\n",
        "  result = False\n",
        "  if expected == output:\n",
        "    result = True\n",
        "  rightTick = '\\u2713'\n",
        "  wrongTick = '\\u2717'\n",
        "  if result:\n",
        "    print(rightTick, ' Test #', test_case_number, sep='')\n",
        "  else:\n",
        "    print(wrongTick, ' Test #', test_case_number, ': Expected ', expected, sep='', end='')\n",
        "    print(' Your output: ', output, end='')\n",
        "    print()\n",
        "  test_case_number += 1\n",
        "\n",
        "if __name__ == \"__main__\":\n",
        "\n",
        "  # Testcase 1\n",
        "  input_lst_1 = [1,None,2,3,None,None,5,None]\n",
        "  output_1 = fill_in_the_blanks(input_lst_1)\n",
        "  expected_1 = [1, 1, 2, 3, 3, 3, 5, 5]\n",
        "  check(expected_1, output_1)\n",
        "\n",
        "\n",
        "  # Testcase 2\n",
        "  input_lst_2 = [None, 8, None]\n",
        "  output_2 = fill_in_the_blanks(input_lst_2)\n",
        "  expected_2 = [None, 8, 8]\n",
        "  check(expected_2, output_2)\n",
        "\n",
        "\n",
        "  # Testcase 3\n",
        "  input_lst_3 = [1,None,2]\n",
        "  output_3 = fill_in_the_blanks(input_lst_3)\n",
        "  expected_3 = [1, 1, 2]\n",
        "  check(expected_3, output_3)\n",
        "\n",
        "\n",
        "  # Testcase 4\n",
        "  input_lst_4 = [5, None, None]\n",
        "  output_4 = fill_in_the_blanks(input_lst_4)\n",
        "  expected_4 = [5, 5, 5]\n",
        "  check(expected_4, output_4)\n",
        "\n",
        "  # Add your own test cases here"
      ],
      "metadata": {
        "colab": {
          "base_uri": "https://localhost:8080/"
        },
        "id": "P6qqrp2jIMz8",
        "outputId": "a9d5c493-d0d2-4592-d10f-7231b550825f"
      },
      "execution_count": 58,
      "outputs": [
        {
          "output_type": "stream",
          "name": "stdout",
          "text": [
            "✓ Test #1\n",
            "✓ Test #2\n",
            "✓ Test #3\n",
            "✓ Test #4\n"
          ]
        }
      ]
    },
    {
      "cell_type": "markdown",
      "source": [
        "---"
      ],
      "metadata": {
        "id": "kfkRCoNeINK4"
      }
    },
    {
      "cell_type": "markdown",
      "source": [],
      "metadata": {
        "id": "89zBowPAIOGw"
      }
    },
    {
      "cell_type": "code",
      "source": [],
      "metadata": {
        "id": "jV19IlJwIOnR"
      },
      "execution_count": null,
      "outputs": []
    },
    {
      "cell_type": "code",
      "source": [],
      "metadata": {
        "id": "iXBPT0VCIOqu"
      },
      "execution_count": null,
      "outputs": []
    },
    {
      "cell_type": "code",
      "source": [],
      "metadata": {
        "id": "cudYsEysIOut"
      },
      "execution_count": null,
      "outputs": []
    },
    {
      "cell_type": "markdown",
      "source": [
        "---"
      ],
      "metadata": {
        "id": "TTBDmyp7IO-E"
      }
    },
    {
      "cell_type": "markdown",
      "source": [],
      "metadata": {
        "id": "sEDp6z3SIPlC"
      }
    },
    {
      "cell_type": "code",
      "source": [],
      "metadata": {
        "id": "rqCjqIUrIP3f"
      },
      "execution_count": null,
      "outputs": []
    },
    {
      "cell_type": "code",
      "source": [],
      "metadata": {
        "id": "_Aq5-M77ILSF"
      },
      "execution_count": null,
      "outputs": []
    }
  ]
}